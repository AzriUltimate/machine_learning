{
 "cells": [
  {
   "cell_type": "code",
   "execution_count": 11,
   "id": "716c78e2",
   "metadata": {
    "_cell_guid": "b1076dfc-b9ad-4769-8c92-a6c4dae69d19",
    "_uuid": "8f2839f25d086af736a60e9eeb907d3b93b6e0e5",
    "papermill": {
     "duration": 0.414627,
     "end_time": "2023-10-23T20:34:51.265380",
     "exception": false,
     "start_time": "2023-10-23T20:34:50.850753",
     "status": "completed"
    },
    "tags": []
   },
   "outputs": [],
   "source": [
    "import numpy as np # линейная алгебра\n",
    "import pandas as pd # работа с данными"
   ]
  },
  {
   "cell_type": "code",
   "execution_count": 12,
   "id": "8dd26f78",
   "metadata": {
    "papermill": {
     "duration": 4.2538,
     "end_time": "2023-10-23T20:34:55.525682",
     "exception": false,
     "start_time": "2023-10-23T20:34:51.271882",
     "status": "completed"
    },
    "tags": []
   },
   "outputs": [],
   "source": [
    "df = pd.read_csv(\"numbers_train.csv\") # импортируем датасет для обучения"
   ]
  },
  {
   "cell_type": "code",
   "execution_count": 13,
   "id": "44c3786a",
   "metadata": {
    "papermill": {
     "duration": 0.076116,
     "end_time": "2023-10-23T20:34:55.606466",
     "exception": false,
     "start_time": "2023-10-23T20:34:55.530350",
     "status": "completed"
    },
    "tags": []
   },
   "outputs": [],
   "source": [
    "# \"пилим\" наш датасет\n",
    "X = df.iloc[:,1:]\n",
    "y = df.iloc[:,0]\n",
    "X = X/255.0 "
   ]
  },
  {
   "cell_type": "code",
   "execution_count": 14,
   "id": "1afbe2d5",
   "metadata": {
    "papermill": {
     "duration": 1.381589,
     "end_time": "2023-10-23T20:34:56.992670",
     "exception": false,
     "start_time": "2023-10-23T20:34:55.611081",
     "status": "completed"
    },
    "tags": []
   },
   "outputs": [],
   "source": [
    "from sklearn.model_selection import train_test_split\n",
    "X_train,X_test,y_train,y_test=train_test_split(X,y,test_size=0.2,random_state=42) #делим наш датасет на две части (для непосредственного обучения и проверки)"
   ]
  },
  {
   "cell_type": "code",
   "execution_count": 15,
   "id": "7490cecd",
   "metadata": {
    "papermill": {
     "duration": 0.241721,
     "end_time": "2023-10-23T20:34:57.238999",
     "exception": false,
     "start_time": "2023-10-23T20:34:56.997278",
     "status": "completed"
    },
    "tags": []
   },
   "outputs": [],
   "source": [
    "from sklearn.decomposition import PCA # метод главных компонент\n",
    "from sklearn import svm # метод опорных векторов"
   ]
  },
  {
   "cell_type": "code",
   "execution_count": 16,
   "id": "f57f4161",
   "metadata": {
    "papermill": {
     "duration": 3.680222,
     "end_time": "2023-10-23T20:35:00.924193",
     "exception": false,
     "start_time": "2023-10-23T20:34:57.243971",
     "status": "completed"
    },
    "tags": []
   },
   "outputs": [],
   "source": [
    "# применяем PCA\n",
    "pca = PCA(n_components=35)\n",
    "X_train_trf = pca.fit_transform(X_train)\n",
    "X_test_trf = pca.transform(X_test)"
   ]
  },
  {
   "cell_type": "code",
   "execution_count": 17,
   "id": "c16216ae",
   "metadata": {
    "papermill": {
     "duration": 288.965457,
     "end_time": "2023-10-23T20:39:49.899138",
     "exception": false,
     "start_time": "2023-10-23T20:35:00.933681",
     "status": "completed"
    },
    "tags": []
   },
   "outputs": [
    {
     "name": "stdout",
     "output_type": "stream",
     "text": [
      "C = 3, Gamma = 0.05, Score = 0.981904761904762\n"
     ]
    }
   ],
   "source": [
    "C_values = [3, 5, 10, 15, 20] # параметр регуляризации\n",
    "gamma_values = [0.01, 0.05, 0.1, 0.2, 0.5] # коэффициент ядра\n",
    "max_score = -1\n",
    "C_final = -1\n",
    "gamma_final = -1                   \n",
    "for C in C_values: # перебором считаем оптимальные веса и запоминаем их\n",
    "    for gamma in gamma_values:\n",
    "        clf = svm.SVC(C=C, kernel=\"rbf\", gamma=gamma)\n",
    "        clf.fit(X_train_trf, y_train)\n",
    "        score = clf.score(X_test_trf, y_test)\n",
    "        if score > max_score:\n",
    "            max_score = score\n",
    "            C_final = C\n",
    "            gamma_final = gamma\n",
    "print(\"C = %s, Gamma = %s, Score = %s\" %(C_final, gamma_final, max_score))"
   ]
  },
  {
   "cell_type": "code",
   "execution_count": 21,
   "id": "3d7cede0",
   "metadata": {
    "papermill": {
     "duration": 2.569515,
     "end_time": "2023-10-23T20:39:52.473152",
     "exception": false,
     "start_time": "2023-10-23T20:39:49.903637",
     "status": "completed"
    },
    "tags": []
   },
   "outputs": [],
   "source": [
    "df_test = pd.read_csv(\"numbers_test.csv\") # импортируем проверочный датасет\n",
    "df_test = df_test.values \n",
    "df_test = df_test/255.0"
   ]
  },
  {
   "cell_type": "code",
   "execution_count": 22,
   "id": "fa002ffb",
   "metadata": {
    "papermill": {
     "duration": 4.01296,
     "end_time": "2023-10-23T20:39:56.490973",
     "exception": false,
     "start_time": "2023-10-23T20:39:52.478013",
     "status": "completed"
    },
    "tags": []
   },
   "outputs": [
    {
     "ename": "AttributeError",
     "evalue": "'numpy.ndarray' object has no attribute 'values'",
     "output_type": "error",
     "traceback": [
      "\u001b[1;31m---------------------------------------------------------------------------\u001b[0m",
      "\u001b[1;31mAttributeError\u001b[0m                            Traceback (most recent call last)",
      "Cell \u001b[1;32mIn[22], line 2\u001b[0m\n\u001b[0;32m      1\u001b[0m pca \u001b[38;5;241m=\u001b[39m PCA(n_components\u001b[38;5;241m=\u001b[39m\u001b[38;5;241m40\u001b[39m) \u001b[38;5;66;03m# форматируем датасетs\u001b[39;00m\n\u001b[1;32m----> 2\u001b[0m X \u001b[38;5;241m=\u001b[39m \u001b[43mX\u001b[49m\u001b[38;5;241;43m.\u001b[39;49m\u001b[43mvalues\u001b[49m\n\u001b[0;32m      3\u001b[0m X_trf \u001b[38;5;241m=\u001b[39m pca\u001b[38;5;241m.\u001b[39mfit_transform(X)\n\u001b[0;32m      4\u001b[0m df_test_trf \u001b[38;5;241m=\u001b[39m pca\u001b[38;5;241m.\u001b[39mtransform(df_test)\n",
      "\u001b[1;31mAttributeError\u001b[0m: 'numpy.ndarray' object has no attribute 'values'"
     ]
    }
   ],
   "source": [
    "pca = PCA(n_components=40) # форматируем датасетs\n",
    "X = X.values\n",
    "X_trf = pca.fit_transform(X)\n",
    "df_test_trf = pca.transform(df_test)"
   ]
  },
  {
   "cell_type": "code",
   "execution_count": 25,
   "id": "cf93b2c5",
   "metadata": {
    "papermill": {
     "duration": 47.128383,
     "end_time": "2023-10-23T20:40:43.629677",
     "exception": false,
     "start_time": "2023-10-23T20:39:56.501294",
     "status": "completed"
    },
    "tags": []
   },
   "outputs": [],
   "source": [
    "svc_sub = svm.SVC(C=C_final, gamma=gamma_final, kernel=\"rbf\")\n",
    "svc_sub.fit(X_trf, y) # обучаем модель на всех данных\n",
    "y_sub = svc_sub.predict(df_test_trf) # обученной моделью делаем прогноз тестового датасета "
   ]
  },
  {
   "cell_type": "code",
   "execution_count": 27,
   "id": "2624bf01",
   "metadata": {
    "papermill": {
     "duration": 0.082212,
     "end_time": "2023-10-23T20:40:43.718603",
     "exception": false,
     "start_time": "2023-10-23T20:40:43.636391",
     "status": "completed"
    },
    "tags": []
   },
   "outputs": [],
   "source": [
    "# моздаем .csv с предположением\n",
    "results = pd.Series(y_sub,name=\"Label\")\n",
    "submission = pd.concat([pd.Series(range(1,28001),name = \"ImageId\"),results],axis = 1)\n",
    "\n",
    "submission.to_csv('submission_numbers.csv',index=False)\n",
    "\n",
    "#вуаля score = 0.98517"
   ]
  }
 ],
 "metadata": {
  "kernelspec": {
   "display_name": "Python 3 (ipykernel)",
   "language": "python",
   "name": "python3"
  },
  "language_info": {
   "codemirror_mode": {
    "name": "ipython",
    "version": 3
   },
   "file_extension": ".py",
   "mimetype": "text/x-python",
   "name": "python",
   "nbconvert_exporter": "python",
   "pygments_lexer": "ipython3",
   "version": "3.11.5"
  },
  "papermill": {
   "default_parameters": {},
   "duration": 356.917212,
   "end_time": "2023-10-23T20:40:44.350550",
   "environment_variables": {},
   "exception": null,
   "input_path": "__notebook__.ipynb",
   "output_path": "__notebook__.ipynb",
   "parameters": {},
   "start_time": "2023-10-23T20:34:47.433338",
   "version": "2.4.0"
  }
 },
 "nbformat": 4,
 "nbformat_minor": 5
}
