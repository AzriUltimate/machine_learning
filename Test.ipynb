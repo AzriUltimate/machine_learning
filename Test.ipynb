{
 "cells": [
  {
   "cell_type": "code",
   "execution_count": 2,
   "id": "1734d536-4ebb-420d-8a26-4dc0c72e4987",
   "metadata": {},
   "outputs": [
    {
     "data": {
      "text/plain": [
       "5"
      ]
     },
     "execution_count": 2,
     "metadata": {},
     "output_type": "execute_result"
    }
   ],
   "source": [
    "2+3"
   ]
  },
  {
   "cell_type": "code",
   "execution_count": 5,
   "id": "475a5905-e7c9-4b57-8f0c-a72507e0fb6d",
   "metadata": {},
   "outputs": [
    {
     "name": "stdout",
     "output_type": "stream",
     "text": [
      "Привет 0\n",
      "Привет 1\n",
      "Привет 2\n",
      "Привет 3\n",
      "Привет 4\n",
      "Привет 5\n",
      "Привет 6\n",
      "Привет 7\n"
     ]
    }
   ],
   "source": [
    "f = 0\n",
    "while (f<8):\n",
    "    print(\"Привет \" + str(f))\n",
    "    f+=1"
   ]
  },
  {
   "cell_type": "code",
   "execution_count": 8,
   "id": "d9ffd6ba-080c-4766-9bc7-59f55e500732",
   "metadata": {},
   "outputs": [
    {
     "name": "stdout",
     "output_type": "stream",
     "text": [
      "GIIIIIIIT\n"
     ]
    }
   ],
   "source": [
    "print(\"GIIIIIIIT\")"
   ]
  },
  {
   "cell_type": "code",
   "execution_count": null,
   "id": "71be4e80-5c40-4695-b30b-6d5266274b87",
   "metadata": {},
   "outputs": [],
   "source": []
  }
 ],
 "metadata": {
  "kernelspec": {
   "display_name": "Python 3 (ipykernel)",
   "language": "python",
   "name": "python3"
  },
  "language_info": {
   "codemirror_mode": {
    "name": "ipython",
    "version": 3
   },
   "file_extension": ".py",
   "mimetype": "text/x-python",
   "name": "python",
   "nbconvert_exporter": "python",
   "pygments_lexer": "ipython3",
   "version": "3.11.5"
  }
 },
 "nbformat": 4,
 "nbformat_minor": 5
}
